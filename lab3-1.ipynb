{
 "cells": [
  {
   "cell_type": "code",
   "execution_count": 21,
   "id": "f4323716",
   "metadata": {},
   "outputs": [
    {
     "name": "stdout",
     "output_type": "stream",
     "text": [
      "dogs            -> dog\n",
      "programming     -> program\n",
      "programs        -> program\n",
      "programmed      -> program\n",
      "cakes           -> cake\n",
      "indices         -> indic\n",
      "matrices        -> matric\n"
     ]
    },
    {
     "name": "stderr",
     "output_type": "stream",
     "text": [
      "[nltk_data] Downloading package punkt to\n",
      "[nltk_data]     C:\\Users\\96654\\AppData\\Roaming\\nltk_data...\n",
      "[nltk_data]   Package punkt is already up-to-date!\n"
     ]
    }
   ],
   "source": [
    "import nltk \n",
    "from nltk.stem import PorterStemmer\n",
    "nltk.download('punkt')\n",
    "porter = PorterStemmer()\n",
    "l_words = ['dogs','programming','programs','programmed','cakes','indices','matrices']\n",
    "for word in l_words:\n",
    " print(f'{word} \\t -> {porter.stem(word)}'.expandtabs(15))\n",
    " \n"
   ]
  },
  {
   "cell_type": "code",
   "execution_count": 13,
   "id": "adfacc95",
   "metadata": {},
   "outputs": [
    {
     "name": "stdout",
     "output_type": "stream",
     "text": [
      "understand\n",
      "demonstrant\n"
     ]
    }
   ],
   "source": [
    "print(porter.stem(\"Understanding\"))\n",
    "\n",
    "print(porter.stem(\"Demonstrantion\"))"
   ]
  },
  {
   "cell_type": "code",
   "execution_count": 22,
   "id": "f3a027a9",
   "metadata": {},
   "outputs": [
    {
     "name": "stdout",
     "output_type": "stream",
     "text": [
      "a stemmer for english oper on the stem cat should identifi such string as cat , catlik , and catti . a stem algorithm might also reduc the word fish , fish , and fisher to the stem fish . the stem need not be a word , for exampl the porter algorithm reduc , argu , argu , argu , argu , and argu to the stem argu .\n"
     ]
    }
   ],
   "source": [
    "from nltk.tokenize import word_tokenize\n",
    "\n",
    "text = nltk.word_tokenize('A stemmer for English operating on the stem cat should identify such strings as cats, catlike, and catty. A stemming algorithm might also reduce the words fishing, fished, and fisher to the stem fish. The stem need not be a word, for example the Porter algorithm reduces, argue, argued, argues, arguing, and argus to the stem argu.') \n",
    "processedText = []\n",
    "for item in text:\n",
    "  stem = porter.stem(item)\n",
    "  processedText.append(stem)\n",
    "\n",
    "processedText = \" \".join(processedText)\n",
    "print(processedText)"
   ]
  },
  {
   "cell_type": "code",
   "execution_count": 24,
   "id": "51b1e2e2",
   "metadata": {},
   "outputs": [
    {
     "name": "stdout",
     "output_type": "stream",
     "text": [
      "dogs            -> dog\n",
      "programming     -> program\n",
      "programs        -> program\n",
      "programmed      -> program\n",
      "cakes           -> cake\n",
      "indices         -> indic\n",
      "matrices        -> matric\n"
     ]
    }
   ],
   "source": [
    "import nltk \n",
    "from nltk.stem import LancasterStemmer\n",
    "lancaster = LancasterStemmer()\n",
    "l_words = ['dogs','programming','programs','programmed','cakes','indices','matrices']\n",
    "for word in l_words:\n",
    "    print(f'{word} \\t -> {porter.stem(word)}'.expandtabs(15))"
   ]
  },
  {
   "cell_type": "code",
   "execution_count": 1,
   "id": "76ecfa70",
   "metadata": {},
   "outputs": [
    {
     "name": "stdout",
     "output_type": "stream",
     "text": [
      "Input your textheeeeee\n"
     ]
    },
    {
     "data": {
      "text/plain": [
       "'he'"
      ]
     },
     "execution_count": 1,
     "metadata": {},
     "output_type": "execute_result"
    }
   ],
   "source": [
    "import re \n",
    "class RepeatReplacer(object):  \n",
    "    def __init__(self): \n",
    "        self.repeat_regexp = re.compile(r'(\\w*)(\\w)\\2(\\w*)') \n",
    "        self.repl = r'\\1\\2\\3'\n",
    "    def replace(self, word):\n",
    "        repl_word = self.repeat_regexp.sub(self.repl, word) \n",
    "        if repl_word != word: \n",
    "            return self.replace(repl_word) \n",
    "        else: \n",
    "            return repl_word \n",
    " \n",
    "replacer= RepeatReplacer()\n",
    "text = input(\"Input your text\")\n",
    "\n",
    "replacer.replace(text)\n"
   ]
  },
  {
   "cell_type": "code",
   "execution_count": null,
   "id": "c1e185c8",
   "metadata": {},
   "outputs": [],
   "source": []
  }
 ],
 "metadata": {
  "kernelspec": {
   "display_name": "Python 3",
   "language": "python",
   "name": "python3"
  },
  "language_info": {
   "codemirror_mode": {
    "name": "ipython",
    "version": 3
   },
   "file_extension": ".py",
   "mimetype": "text/x-python",
   "name": "python",
   "nbconvert_exporter": "python",
   "pygments_lexer": "ipython3",
   "version": "3.8.8"
  }
 },
 "nbformat": 4,
 "nbformat_minor": 5
}
