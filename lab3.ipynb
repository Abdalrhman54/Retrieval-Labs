{
 "cells": [
  {
   "cell_type": "code",
   "execution_count": 10,
   "id": "97459ab5",
   "metadata": {},
   "outputs": [],
   "source": [
    "import re"
   ]
  },
  {
   "cell_type": "code",
   "execution_count": 42,
   "id": "238579d3",
   "metadata": {},
   "outputs": [
    {
     "name": "stdout",
     "output_type": "stream",
     "text": [
      "Yes! we have a match\n"
     ]
    }
   ],
   "source": [
    "sentence = \"Regular expression is a sequence of character(s) mainly used to find and replace patterns in a string or file\"\n",
    "start_word='Regular'\n",
    "end_word=\"file\"\n",
    "regex = '^' + start_word +\".*file$\"\n",
    "x = re.search(regex,sentence)\n",
    "if x:\n",
    "    print(\"Yes! we have a match\")\n",
    "else: print(\"No  match\")"
   ]
  },
  {
   "cell_type": "code",
   "execution_count": 11,
   "id": "b0ddec8e",
   "metadata": {},
   "outputs": [
    {
     "data": {
      "text/plain": [
       "'We will see how to replace words using regular expressions such does not, can’t and so on'"
      ]
     },
     "execution_count": 11,
     "metadata": {},
     "output_type": "execute_result"
    }
   ],
   "source": [
    "replacement_patterns = [ \n",
    "(r'won\\'t', 'will not'), \n",
    "(r'can\\'t', 'cannot'), \n",
    "(r'i\\'m', 'i am'), \n",
    "(r'ain\\'t', 'is not'), \n",
    "(r'(\\w+)\\'ll', '\\g<1> will'), \n",
    "(r'(\\w+)n\\'t', '\\g<1> not'), \n",
    "(r'(\\w+)\\'ve', '\\g<1> have'), \n",
    "(r'(\\w+)\\'s', '\\g<1> is'), \n",
    "(r'(\\w+)\\'re', '\\g<1> are'), \n",
    "(r'(\\w+)\\'d', '\\g<1> would')]\n",
    "\n",
    "class RegexReplacer(object):\n",
    "    def __init__(self, patterns=replacement_patterns): \n",
    "        self.patterns = [(re.compile(regex), repl) for (regex, repl)in patterns] \n",
    "    def replace(self, text): \n",
    "        s = text  \n",
    "        for (pattern, repl) in self.patterns: \n",
    "            (s, count) = re.subn(pattern, repl, s) \n",
    "        return s\n",
    "\n",
    "text=\"We'll see how to replace words using regular expressions such doesn't, can’t and so on\"\n",
    "rep = RegexReplacer()\n",
    "rep.replace(text)"
   ]
  },
  {
   "cell_type": "code",
   "execution_count": null,
   "id": "154a7728",
   "metadata": {},
   "outputs": [],
   "source": []
  }
 ],
 "metadata": {
  "kernelspec": {
   "display_name": "Python 3",
   "language": "python",
   "name": "python3"
  },
  "language_info": {
   "codemirror_mode": {
    "name": "ipython",
    "version": 3
   },
   "file_extension": ".py",
   "mimetype": "text/x-python",
   "name": "python",
   "nbconvert_exporter": "python",
   "pygments_lexer": "ipython3",
   "version": "3.8.8"
  }
 },
 "nbformat": 4,
 "nbformat_minor": 5
}
